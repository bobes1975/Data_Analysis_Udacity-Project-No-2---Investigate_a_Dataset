{
 "cells": [
  {
   "cell_type": "markdown",
   "metadata": {},
   "source": [
    "\n",
    "\n",
    "# Project: TMDb movie dataset investigation \n",
    "\n",
    "\n",
    "## Author: Robert HROMADA (SVK)\n",
    "\n",
    "### Table of Contents\n",
    "    \n",
    "<ul>\n",
    "<li><a href=\"#intro\">Introduction</a></li>\n",
    "<li><a href=\"#wrangling\">Data Wrangling</a></li>\n",
    "<li><a href=\"#eda\">Exploratory Data Analysis</a></li>\n",
    "<li><a href=\"#conclusions\">Conclusions</a></li>\n",
    "<li><a href=\"#resources\">Resources</a></li>\n",
    "</ul>\n"
   ]
  },
  {
   "cell_type": "markdown",
   "metadata": {},
   "source": [
    "<a id='intro'></a>\n",
    "## Introduction\n",
    "\n",
    "This Project is part of <a href=\"https://www.udacity.com/course/data-analyst-nanodegree--nd002\\\"> Data Analyst Nanodegree Program</a>, Lesson: Introduction to Data Analysis.\n",
    "    \n",
    "For this project the provided IMDb data set <a href=\"#[1]\">[1]</a> was used. This dataset contains information about 10,000 movies collected from The Movie Database (<a href=\"https://www.themoviedb.org\\\">IMDb</a>), including user ratings and revenue.\n",
    "\n",
    "The Movie Database (TMDb) is a community built movie and TV database. Every piece of data has been added by our amazing community dating back to 2008. TMDb's strong international focus and breadth of data is largely unmatched <a href=\"#[2]\">[2]</a>.\n",
    "\n",
    "My goal is analyse budget, revenue, vote_average <a href=\"#[3]\">[3]</a> and the relationship between these values of the provided IMDb dataset.\n",
    "\n"
   ]
  },
  {
   "cell_type": "code",
   "execution_count": 1,
   "metadata": {},
   "outputs": [],
   "source": [
    "import pandas as pd\n",
    "import matplotlib.pyplot as plt\n",
    "import numpy as np\n",
    "import seaborn as sns\n",
    "\n",
    "%matplotlib inline\n"
   ]
  },
  {
   "cell_type": "markdown",
   "metadata": {},
   "source": [
    "<a id='wrangling'></a>\n",
    "## Data Wrangling\n",
    "\n",
    "> **Tip**: In this section of the report, you will load in the data, check for cleanliness, and then trim and clean your dataset for analysis. Make sure that you document your steps carefully and justify your cleaning decisions.\n",
    "\n",
    "### General Properties"
   ]
  },
  {
   "cell_type": "code",
   "execution_count": 2,
   "metadata": {},
   "outputs": [
    {
     "data": {
      "text/html": [
       "<div>\n",
       "<style scoped>\n",
       "    .dataframe tbody tr th:only-of-type {\n",
       "        vertical-align: middle;\n",
       "    }\n",
       "\n",
       "    .dataframe tbody tr th {\n",
       "        vertical-align: top;\n",
       "    }\n",
       "\n",
       "    .dataframe thead th {\n",
       "        text-align: right;\n",
       "    }\n",
       "</style>\n",
       "<table border=\"1\" class=\"dataframe\">\n",
       "  <thead>\n",
       "    <tr style=\"text-align: right;\">\n",
       "      <th></th>\n",
       "      <th>id</th>\n",
       "      <th>imdb_id</th>\n",
       "      <th>popularity</th>\n",
       "      <th>budget</th>\n",
       "      <th>revenue</th>\n",
       "      <th>original_title</th>\n",
       "      <th>cast</th>\n",
       "      <th>homepage</th>\n",
       "      <th>director</th>\n",
       "      <th>tagline</th>\n",
       "      <th>...</th>\n",
       "      <th>overview</th>\n",
       "      <th>runtime</th>\n",
       "      <th>genres</th>\n",
       "      <th>production_companies</th>\n",
       "      <th>release_date</th>\n",
       "      <th>vote_count</th>\n",
       "      <th>vote_average</th>\n",
       "      <th>release_year</th>\n",
       "      <th>budget_adj</th>\n",
       "      <th>revenue_adj</th>\n",
       "    </tr>\n",
       "  </thead>\n",
       "  <tbody>\n",
       "    <tr>\n",
       "      <th>0</th>\n",
       "      <td>135397</td>\n",
       "      <td>tt0369610</td>\n",
       "      <td>32.985763</td>\n",
       "      <td>150000000</td>\n",
       "      <td>1513528810</td>\n",
       "      <td>Jurassic World</td>\n",
       "      <td>Chris Pratt|Bryce Dallas Howard|Irrfan Khan|Vi...</td>\n",
       "      <td>http://www.jurassicworld.com/</td>\n",
       "      <td>Colin Trevorrow</td>\n",
       "      <td>The park is open.</td>\n",
       "      <td>...</td>\n",
       "      <td>Twenty-two years after the events of Jurassic ...</td>\n",
       "      <td>124</td>\n",
       "      <td>Action|Adventure|Science Fiction|Thriller</td>\n",
       "      <td>Universal Studios|Amblin Entertainment|Legenda...</td>\n",
       "      <td>6/9/15</td>\n",
       "      <td>5562</td>\n",
       "      <td>6.5</td>\n",
       "      <td>2015</td>\n",
       "      <td>1.379999e+08</td>\n",
       "      <td>1.392446e+09</td>\n",
       "    </tr>\n",
       "    <tr>\n",
       "      <th>1</th>\n",
       "      <td>76341</td>\n",
       "      <td>tt1392190</td>\n",
       "      <td>28.419936</td>\n",
       "      <td>150000000</td>\n",
       "      <td>378436354</td>\n",
       "      <td>Mad Max: Fury Road</td>\n",
       "      <td>Tom Hardy|Charlize Theron|Hugh Keays-Byrne|Nic...</td>\n",
       "      <td>http://www.madmaxmovie.com/</td>\n",
       "      <td>George Miller</td>\n",
       "      <td>What a Lovely Day.</td>\n",
       "      <td>...</td>\n",
       "      <td>An apocalyptic story set in the furthest reach...</td>\n",
       "      <td>120</td>\n",
       "      <td>Action|Adventure|Science Fiction|Thriller</td>\n",
       "      <td>Village Roadshow Pictures|Kennedy Miller Produ...</td>\n",
       "      <td>5/13/15</td>\n",
       "      <td>6185</td>\n",
       "      <td>7.1</td>\n",
       "      <td>2015</td>\n",
       "      <td>1.379999e+08</td>\n",
       "      <td>3.481613e+08</td>\n",
       "    </tr>\n",
       "  </tbody>\n",
       "</table>\n",
       "<p>2 rows × 21 columns</p>\n",
       "</div>"
      ],
      "text/plain": [
       "       id    imdb_id  popularity     budget     revenue      original_title  \\\n",
       "0  135397  tt0369610   32.985763  150000000  1513528810      Jurassic World   \n",
       "1   76341  tt1392190   28.419936  150000000   378436354  Mad Max: Fury Road   \n",
       "\n",
       "                                                cast  \\\n",
       "0  Chris Pratt|Bryce Dallas Howard|Irrfan Khan|Vi...   \n",
       "1  Tom Hardy|Charlize Theron|Hugh Keays-Byrne|Nic...   \n",
       "\n",
       "                        homepage         director             tagline  ...  \\\n",
       "0  http://www.jurassicworld.com/  Colin Trevorrow   The park is open.  ...   \n",
       "1    http://www.madmaxmovie.com/    George Miller  What a Lovely Day.  ...   \n",
       "\n",
       "                                            overview runtime  \\\n",
       "0  Twenty-two years after the events of Jurassic ...     124   \n",
       "1  An apocalyptic story set in the furthest reach...     120   \n",
       "\n",
       "                                      genres  \\\n",
       "0  Action|Adventure|Science Fiction|Thriller   \n",
       "1  Action|Adventure|Science Fiction|Thriller   \n",
       "\n",
       "                                production_companies release_date vote_count  \\\n",
       "0  Universal Studios|Amblin Entertainment|Legenda...       6/9/15       5562   \n",
       "1  Village Roadshow Pictures|Kennedy Miller Produ...      5/13/15       6185   \n",
       "\n",
       "   vote_average  release_year    budget_adj   revenue_adj  \n",
       "0           6.5          2015  1.379999e+08  1.392446e+09  \n",
       "1           7.1          2015  1.379999e+08  3.481613e+08  \n",
       "\n",
       "[2 rows x 21 columns]"
      ]
     },
     "execution_count": 2,
     "metadata": {},
     "output_type": "execute_result"
    }
   ],
   "source": [
    "#read data set\n",
    "df_wholeDB = pd.read_csv('tmdb-movies.csv')\n",
    "\n",
    "#basic information about data set\n",
    "df_wholeDB.head(2)"
   ]
  },
  {
   "cell_type": "code",
   "execution_count": 3,
   "metadata": {},
   "outputs": [
    {
     "name": "stdout",
     "output_type": "stream",
     "text": [
      "<class 'pandas.core.frame.DataFrame'>\n",
      "RangeIndex: 10866 entries, 0 to 10865\n",
      "Data columns (total 21 columns):\n",
      " #   Column                Non-Null Count  Dtype  \n",
      "---  ------                --------------  -----  \n",
      " 0   id                    10866 non-null  int64  \n",
      " 1   imdb_id               10856 non-null  object \n",
      " 2   popularity            10866 non-null  float64\n",
      " 3   budget                10866 non-null  int64  \n",
      " 4   revenue               10866 non-null  int64  \n",
      " 5   original_title        10866 non-null  object \n",
      " 6   cast                  10790 non-null  object \n",
      " 7   homepage              2936 non-null   object \n",
      " 8   director              10822 non-null  object \n",
      " 9   tagline               8042 non-null   object \n",
      " 10  keywords              9373 non-null   object \n",
      " 11  overview              10862 non-null  object \n",
      " 12  runtime               10866 non-null  int64  \n",
      " 13  genres                10843 non-null  object \n",
      " 14  production_companies  9836 non-null   object \n",
      " 15  release_date          10866 non-null  object \n",
      " 16  vote_count            10866 non-null  int64  \n",
      " 17  vote_average          10866 non-null  float64\n",
      " 18  release_year          10866 non-null  int64  \n",
      " 19  budget_adj            10866 non-null  float64\n",
      " 20  revenue_adj           10866 non-null  float64\n",
      "dtypes: float64(4), int64(6), object(11)\n",
      "memory usage: 1.7+ MB\n"
     ]
    }
   ],
   "source": [
    "#basic information about data set\n",
    "df_wholeDB.info()\n"
   ]
  },
  {
   "cell_type": "markdown",
   "metadata": {},
   "source": [
    "My analyse is focusing on financial aspect of movies therefore following columns should be deleted.\n",
    "\n",
    "|No.|Column|Non-Null|Reason *|\n",
    "|---|---|---|---|\n",
    "|1|imdb_id|10856|just Id number within IMDb database, it is not important for further analysis|\n",
    "|6|cast|10790|cast does not have any value for analysis|\n",
    "|7|homepage|2936|a lot of datas is missing and homepage of the movie does not have any value for analysis|\n",
    "|8|director|10822|director of the movie does not have any value for analysis|\n",
    "|9|tagline|8042|tagline of the movie does not have any value for analysis|\n",
    "|10|keywords|9373|keywords of the movie does not have any value for analysis|\n",
    "|11|overwiev|10862|owerview of the movie does not have any value for analysis|\n",
    "|13|genres|10843|genres does not have any value for analysis|\n",
    "|14|production_companies|9836|production company of the movie does not have any value for analysis|\n",
    "|15|release_date|10866|for purpose of this project it is enogh to have data from \"release_year\" column|\n",
    "\n",
    "\n",
    "\n",
    "*All data mentioned in table above could have value for other analysis.\n",
    "\n",
    "Because one of my project focus will be financial aspects I have to check how many zero values I have in data set espetialy in columns: budget, revenue, budget_adj and revenue_adj."
   ]
  },
  {
   "cell_type": "code",
   "execution_count": 4,
   "metadata": {},
   "outputs": [
    {
     "data": {
      "text/plain": [
       "id                         0\n",
       "imdb_id                    0\n",
       "popularity                 0\n",
       "budget                  5696\n",
       "revenue                 6016\n",
       "original_title             0\n",
       "cast                       0\n",
       "homepage                   0\n",
       "director                   0\n",
       "tagline                    0\n",
       "keywords                   0\n",
       "overview                   0\n",
       "runtime                   31\n",
       "genres                     0\n",
       "production_companies       0\n",
       "release_date               0\n",
       "vote_count                 0\n",
       "vote_average               0\n",
       "release_year               0\n",
       "budget_adj              5696\n",
       "revenue_adj             6016\n",
       "dtype: int64"
      ]
     },
     "execution_count": 4,
     "metadata": {},
     "output_type": "execute_result"
    }
   ],
   "source": [
    "#Count how many zero values is in dataset\n",
    "df_wholeDB[df_wholeDB==0].count()"
   ]
  },
  {
   "cell_type": "markdown",
   "metadata": {},
   "source": [
    "We can see a lot of zero values in column which I interested in.\n",
    "\n",
    "There are two oprtion how to deal with this situation. One is to fill these rows with the mean. Due to fact that the badget has high viriability,there is high risk that this aproach will highly affected analysis. Therefore better aproach in this case is to dropping off these rows. It is better to have less data with precise figures than have large data with skewed results."
   ]
  },
  {
   "cell_type": "markdown",
   "metadata": {},
   "source": [
    "### Data Cleaning"
   ]
  },
  {
   "cell_type": "code",
   "execution_count": 5,
   "metadata": {},
   "outputs": [
    {
     "name": "stdout",
     "output_type": "stream",
     "text": [
      "<class 'pandas.core.frame.DataFrame'>\n",
      "RangeIndex: 10866 entries, 0 to 10865\n",
      "Data columns (total 11 columns):\n",
      " #   Column          Non-Null Count  Dtype  \n",
      "---  ------          --------------  -----  \n",
      " 0   id              10866 non-null  int64  \n",
      " 1   popularity      10866 non-null  float64\n",
      " 2   budget          10866 non-null  int64  \n",
      " 3   revenue         10866 non-null  int64  \n",
      " 4   original_title  10866 non-null  object \n",
      " 5   runtime         10866 non-null  int64  \n",
      " 6   vote_count      10866 non-null  int64  \n",
      " 7   vote_average    10866 non-null  float64\n",
      " 8   release_year    10866 non-null  int64  \n",
      " 9   budget_adj      10866 non-null  float64\n",
      " 10  revenue_adj     10866 non-null  float64\n",
      "dtypes: float64(4), int64(6), object(1)\n",
      "memory usage: 933.9+ KB\n"
     ]
    }
   ],
   "source": [
    "# Firstly I drop of unusefull columns and create version No. 1 of data set\n",
    "\n",
    "df_DBver1 = df_wholeDB.drop(['imdb_id','cast','homepage','director','tagline','keywords','overview','genres','production_companies','release_date'], 1)\n",
    "df_DBver1.info()\n"
   ]
  },
  {
   "cell_type": "code",
   "execution_count": 6,
   "metadata": {
    "scrolled": true
   },
   "outputs": [
    {
     "data": {
      "text/plain": [
       "id                  0\n",
       "popularity          0\n",
       "budget            995\n",
       "revenue             0\n",
       "original_title      0\n",
       "runtime             0\n",
       "vote_count          0\n",
       "vote_average        0\n",
       "release_year        0\n",
       "budget_adj        995\n",
       "revenue_adj         0\n",
       "dtype: int64"
      ]
     },
     "execution_count": 6,
     "metadata": {},
     "output_type": "execute_result"
    }
   ],
   "source": [
    "# Secondly I drop of rows with value \"0\" in columns budger and revenue. From columns budget_adj and \n",
    "# revenue_adj row will be deleted as well due to fact that if budget is 0 that budget_adj is 0 as well.\n",
    "# I will use column \"revenue\" due to fatc there is more zeros than in \"budget\" column\n",
    "\n",
    "df_DBver2 = df_DBver1.query('revenue > 0')\n",
    "df_DBver2[df_DBver2==0].count()\n"
   ]
  },
  {
   "cell_type": "code",
   "execution_count": 7,
   "metadata": {
    "scrolled": false
   },
   "outputs": [
    {
     "name": "stdout",
     "output_type": "stream",
     "text": [
      "<class 'pandas.core.frame.DataFrame'>\n",
      "Int64Index: 3855 entries, 0 to 10848\n",
      "Data columns (total 11 columns):\n",
      " #   Column          Non-Null Count  Dtype  \n",
      "---  ------          --------------  -----  \n",
      " 0   id              3855 non-null   int64  \n",
      " 1   popularity      3855 non-null   float64\n",
      " 2   budget          3855 non-null   int64  \n",
      " 3   revenue         3855 non-null   int64  \n",
      " 4   original_title  3855 non-null   object \n",
      " 5   runtime         3855 non-null   int64  \n",
      " 6   vote_count      3855 non-null   int64  \n",
      " 7   vote_average    3855 non-null   float64\n",
      " 8   release_year    3855 non-null   int64  \n",
      " 9   budget_adj      3855 non-null   float64\n",
      " 10  revenue_adj     3855 non-null   float64\n",
      "dtypes: float64(4), int64(6), object(1)\n",
      "memory usage: 361.4+ KB\n"
     ]
    },
    {
     "data": {
      "text/plain": [
       "(id                0\n",
       " popularity        0\n",
       " budget            0\n",
       " revenue           0\n",
       " original_title    0\n",
       " runtime           0\n",
       " vote_count        0\n",
       " vote_average      0\n",
       " release_year      0\n",
       " budget_adj        0\n",
       " revenue_adj       0\n",
       " dtype: int64,\n",
       " None)"
      ]
     },
     "execution_count": 7,
     "metadata": {},
     "output_type": "execute_result"
    }
   ],
   "source": [
    "# As we can see we still have some zero values in column \"budget\" therefore I will perform same operation again\n",
    "#but now with \"budget\" column\n",
    "\n",
    "df_DBver3 = df_DBver2.query('budget > 0')\n",
    "df_DBver3[df_DBver3==0].count(), df_DBver3.info()\n"
   ]
  },
  {
   "cell_type": "markdown",
   "metadata": {},
   "source": [
    "Next cleaning step is to clean database from micro-budget and low budget films. Based on article \"What’s the average budget of a low or micro-budget film?\" published on September 22, 2014 <a href=\"#[4]\">[4]</a>, $396,000 was deemed the maximum budget for a \"micro-budget\" film is approx. 400 000 USD and 2.1 million for “low budget”.\n",
    "\n",
    "Therefore I decided to drop off all movies with adjusted budget bellow 2.1 million USD."
   ]
  },
  {
   "cell_type": "code",
   "execution_count": 8,
   "metadata": {},
   "outputs": [
    {
     "data": {
      "text/plain": [
       "2103337.16526309"
      ]
     },
     "execution_count": 8,
     "metadata": {},
     "output_type": "execute_result"
    }
   ],
   "source": [
    "df_DBver4 = df_DBver3.query('budget_adj > 2100000')\n",
    "df_DBver4.min()['budget_adj']"
   ]
  },
  {
   "cell_type": "markdown",
   "metadata": {},
   "source": [
    "#### Summary of dataset available for analysis\n",
    "\n",
    "* **df_wholeDB** - contains all data\n",
    "* **df_DBver4** - cleaned version of original data set, contains only rows where \"budget\" and \"revenue\" are not null or empty"
   ]
  },
  {
   "cell_type": "markdown",
   "metadata": {},
   "source": [
    "<a id='eda'></a>\n",
    "## Exploratory Data Analysis\n",
    "\n",
    "\n",
    "### Q1: How has the average rating been changing within the years?\n",
    "\n",
    "For this question I have used the whole database due to the fact, that all movies contain \"vote_average\" <a href=\"#[3]\">[3]</a> data  . Our movie data set contains movies from 1960 till 2015. The total number of produced movies has increased since 1960 till now."
   ]
  },
  {
   "cell_type": "code",
   "execution_count": 11,
   "metadata": {},
   "outputs": [
    {
     "data": {
      "image/png": "[encoded data removed]",
      "text/plain": [
       "<Figure size 1440x360 with 1 Axes>"
      ]
     },
     "metadata": {
      "needs_background": "light"
     },
     "output_type": "display_data"
    }
   ],
   "source": [
    "# Total numbers of produced movies over the yerasype\n",
    "\n",
    "releasedMovies = df_wholeDB.groupby(['release_year']).original_title.count()\n",
    "\n",
    "releasedMovies.plot(kind='bar' )\n",
    "\n",
    "# Plot formatting\n",
    "plt.title('Movies releaced over the years 1960 - 2015', fontsize=15)\n",
    "plt.xlabel(\"Year\", fontsize=12)\n",
    "plt.ylabel(\"Counts of movies [pcs]\",fontsize=12);\n",
    "\n",
    "plt.rcParams['figure.figsize'] = 20, 5\n",
    "plt.rc('grid', linestyle=\"-\", color='gray')\n",
    "\n",
    "plt.grid()\n"
   ]
  },
  {
   "cell_type": "markdown",
   "metadata": {},
   "source": [
    "We can see that from 1960 to 1983 numbers of movie was kept bellow 100. From 1984 till 2000 numbers of produced movies was approx. doubled. Next fifteen year, from 2001 till 2015 movie companies year by year intensively increase their production. In 2014 movie production was seven times more than in 1960.\n",
    "\n",
    "One of the reason could be technotology development of our society.\n",
    "\n",
    "We will look how \"vote_average\" <a href=\"#[3]\">[3]</a> change over the years and how this rating made by registered users of IMDb changed over the years."
   ]
  },
  {
   "cell_type": "code",
   "execution_count": 13,
   "metadata": {},
   "outputs": [
    {
     "data": {
      "image/png": "[encoded data removed]",
      "text/plain": [
       "<Figure size 1440x360 with 1 Axes>"
      ]
     },
     "metadata": {
      "needs_background": "light"
     },
     "output_type": "display_data"
    }
   ],
   "source": [
    "# IMDb customers rating of produced movies over the years\n",
    "userVotes = df_wholeDB.groupby(['release_year']).vote_average.mean()\n",
    "\n",
    "userVotes.plot(kind='bar' )\n",
    "\n",
    "# Plot formatting\n",
    "plt.title('Average votes given by IMDb registed users', fontsize=15)\n",
    "plt.xlabel(\"Year\", fontsize=12)\n",
    "plt.ylabel(\"Average votes\",fontsize=12);\n",
    "\n",
    "plt.rcParams['figure.figsize'] = 20, 5\n",
    "plt.rc('grid', linestyle=\"-\", color='gray')\n",
    "\n",
    "plt.grid()"
   ]
  },
  {
   "cell_type": "markdown",
   "metadata": {},
   "source": [
    "It is really iteresting to see that average is almost same over the years.\n",
    "\n",
    "How exactly is distributed we can see from histogram."
   ]
  },
  {
   "cell_type": "code",
   "execution_count": 19,
   "metadata": {
    "scrolled": true
   },
   "outputs": [
    {
     "data": {
      "image/png": "[encoded data removed]",
      "text/plain": [
       "<Figure size 360x360 with 1 Axes>"
      ]
     },
     "metadata": {
      "needs_background": "light"
     },
     "output_type": "display_data"
    }
   ],
   "source": [
    "# IMDb customers rating of produced movies over the years\n",
    "\n",
    "userVotes = df_wholeDB.groupby(['release_year']).vote_average.mean()\n",
    "\n",
    "userVotes.hist( bins=np.linspace(5.5, 7, 10), grid=True, label='Whole DB')\n",
    "\n",
    "\n",
    "# Plot formatting\n",
    "plt.title('Average votes distribution', fontsize=15)\n",
    "plt.xlabel(\"Users votes\", fontsize=12)\n",
    "plt.ylabel(\"Frequency\", fontsize=12);\n",
    "\n",
    "plt.rcParams['figure.figsize'] = 5, 5\n",
    "\n",
    "\n"
   ]
  },
  {
   "cell_type": "markdown",
   "metadata": {},
   "source": [
    "### Q2:How the movie budget is translated into rating and revenue?\n",
    "For this question I have used the database cleaned from zero values in budget and revenue columns (df_DBver3).\n",
    "\n",
    "Due to fact that this data set is provided by IMDb.com I expected that budget and revenue value are in USD.\n",
    "\n",
    "Secondly, real value of USD was diffrent in 1960 and during next following years. Therefore I have used adjusted budget and revenue data from column marked as budget_adj and revenue_adj.\n"
   ]
  },
  {
   "cell_type": "code",
   "execution_count": 20,
   "metadata": {},
   "outputs": [
    {
     "data": {
      "text/html": [
       "<div>\n",
       "<style scoped>\n",
       "    .dataframe tbody tr th:only-of-type {\n",
       "        vertical-align: middle;\n",
       "    }\n",
       "\n",
       "    .dataframe tbody tr th {\n",
       "        vertical-align: top;\n",
       "    }\n",
       "\n",
       "    .dataframe thead th {\n",
       "        text-align: right;\n",
       "    }\n",
       "</style>\n",
       "<table border=\"1\" class=\"dataframe\">\n",
       "  <thead>\n",
       "    <tr style=\"text-align: right;\">\n",
       "      <th></th>\n",
       "      <th>id</th>\n",
       "      <th>popularity</th>\n",
       "      <th>budget</th>\n",
       "      <th>revenue</th>\n",
       "      <th>runtime</th>\n",
       "      <th>vote_count</th>\n",
       "      <th>vote_average</th>\n",
       "      <th>release_year</th>\n",
       "      <th>budget_adj</th>\n",
       "      <th>revenue_adj</th>\n",
       "    </tr>\n",
       "  </thead>\n",
       "  <tbody>\n",
       "    <tr>\n",
       "      <th>count</th>\n",
       "      <td>3657.000000</td>\n",
       "      <td>3657.000000</td>\n",
       "      <td>3.657000e+03</td>\n",
       "      <td>3.657000e+03</td>\n",
       "      <td>3657.000000</td>\n",
       "      <td>3657.000000</td>\n",
       "      <td>3657.000000</td>\n",
       "      <td>3657.000000</td>\n",
       "      <td>3.657000e+03</td>\n",
       "      <td>3.657000e+03</td>\n",
       "    </tr>\n",
       "    <tr>\n",
       "      <th>mean</th>\n",
       "      <td>38994.594750</td>\n",
       "      <td>1.227057</td>\n",
       "      <td>3.917776e+07</td>\n",
       "      <td>1.128117e+08</td>\n",
       "      <td>109.911403</td>\n",
       "      <td>547.435056</td>\n",
       "      <td>6.167241</td>\n",
       "      <td>2001.179929</td>\n",
       "      <td>4.658608e+07</td>\n",
       "      <td>1.434248e+08</td>\n",
       "    </tr>\n",
       "    <tr>\n",
       "      <th>std</th>\n",
       "      <td>66418.881868</td>\n",
       "      <td>1.501141</td>\n",
       "      <td>4.244393e+07</td>\n",
       "      <td>1.796812e+08</td>\n",
       "      <td>19.851495</td>\n",
       "      <td>897.042470</td>\n",
       "      <td>0.791609</td>\n",
       "      <td>11.300931</td>\n",
       "      <td>4.481698e+07</td>\n",
       "      <td>2.198025e+08</td>\n",
       "    </tr>\n",
       "    <tr>\n",
       "      <th>min</th>\n",
       "      <td>5.000000</td>\n",
       "      <td>0.010335</td>\n",
       "      <td>5.000000e+05</td>\n",
       "      <td>2.000000e+00</td>\n",
       "      <td>26.000000</td>\n",
       "      <td>10.000000</td>\n",
       "      <td>2.200000</td>\n",
       "      <td>1960.000000</td>\n",
       "      <td>2.103337e+06</td>\n",
       "      <td>2.370705e+00</td>\n",
       "    </tr>\n",
       "    <tr>\n",
       "      <th>25%</th>\n",
       "      <td>5852.000000</td>\n",
       "      <td>0.481089</td>\n",
       "      <td>1.200000e+07</td>\n",
       "      <td>1.617896e+07</td>\n",
       "      <td>96.000000</td>\n",
       "      <td>76.000000</td>\n",
       "      <td>5.700000</td>\n",
       "      <td>1995.000000</td>\n",
       "      <td>1.551037e+07</td>\n",
       "      <td>2.176920e+07</td>\n",
       "    </tr>\n",
       "    <tr>\n",
       "      <th>50%</th>\n",
       "      <td>11158.000000</td>\n",
       "      <td>0.834109</td>\n",
       "      <td>2.500000e+07</td>\n",
       "      <td>4.962778e+07</td>\n",
       "      <td>106.000000</td>\n",
       "      <td>216.000000</td>\n",
       "      <td>6.200000</td>\n",
       "      <td>2004.000000</td>\n",
       "      <td>3.219999e+07</td>\n",
       "      <td>6.680736e+07</td>\n",
       "    </tr>\n",
       "    <tr>\n",
       "      <th>75%</th>\n",
       "      <td>37799.000000</td>\n",
       "      <td>1.414590</td>\n",
       "      <td>5.000000e+07</td>\n",
       "      <td>1.314577e+08</td>\n",
       "      <td>120.000000</td>\n",
       "      <td>600.000000</td>\n",
       "      <td>6.700000</td>\n",
       "      <td>2010.000000</td>\n",
       "      <td>6.284215e+07</td>\n",
       "      <td>1.718192e+08</td>\n",
       "    </tr>\n",
       "    <tr>\n",
       "      <th>max</th>\n",
       "      <td>417859.000000</td>\n",
       "      <td>32.985763</td>\n",
       "      <td>4.250000e+08</td>\n",
       "      <td>2.781506e+09</td>\n",
       "      <td>338.000000</td>\n",
       "      <td>9767.000000</td>\n",
       "      <td>8.400000</td>\n",
       "      <td>2015.000000</td>\n",
       "      <td>4.250000e+08</td>\n",
       "      <td>2.827124e+09</td>\n",
       "    </tr>\n",
       "  </tbody>\n",
       "</table>\n",
       "</div>"
      ],
      "text/plain": [
       "                  id   popularity        budget       revenue      runtime  \\\n",
       "count    3657.000000  3657.000000  3.657000e+03  3.657000e+03  3657.000000   \n",
       "mean    38994.594750     1.227057  3.917776e+07  1.128117e+08   109.911403   \n",
       "std     66418.881868     1.501141  4.244393e+07  1.796812e+08    19.851495   \n",
       "min         5.000000     0.010335  5.000000e+05  2.000000e+00    26.000000   \n",
       "25%      5852.000000     0.481089  1.200000e+07  1.617896e+07    96.000000   \n",
       "50%     11158.000000     0.834109  2.500000e+07  4.962778e+07   106.000000   \n",
       "75%     37799.000000     1.414590  5.000000e+07  1.314577e+08   120.000000   \n",
       "max    417859.000000    32.985763  4.250000e+08  2.781506e+09   338.000000   \n",
       "\n",
       "        vote_count  vote_average  release_year    budget_adj   revenue_adj  \n",
       "count  3657.000000   3657.000000   3657.000000  3.657000e+03  3.657000e+03  \n",
       "mean    547.435056      6.167241   2001.179929  4.658608e+07  1.434248e+08  \n",
       "std     897.042470      0.791609     11.300931  4.481698e+07  2.198025e+08  \n",
       "min      10.000000      2.200000   1960.000000  2.103337e+06  2.370705e+00  \n",
       "25%      76.000000      5.700000   1995.000000  1.551037e+07  2.176920e+07  \n",
       "50%     216.000000      6.200000   2004.000000  3.219999e+07  6.680736e+07  \n",
       "75%     600.000000      6.700000   2010.000000  6.284215e+07  1.718192e+08  \n",
       "max    9767.000000      8.400000   2015.000000  4.250000e+08  2.827124e+09  "
      ]
     },
     "execution_count": 20,
     "metadata": {},
     "output_type": "execute_result"
    }
   ],
   "source": [
    "df_DBver4.describe()"
   ]
  },
  {
   "cell_type": "code",
   "execution_count": 21,
   "metadata": {},
   "outputs": [
    {
     "data": {
      "text/plain": [
       "6.2"
      ]
     },
     "execution_count": 21,
     "metadata": {},
     "output_type": "execute_result"
    }
   ],
   "source": [
    "# median for\"average_vote\" column\n",
    "\n",
    "df_DBver4['vote_average'].median()"
   ]
  },
  {
   "cell_type": "markdown",
   "metadata": {},
   "source": [
    "We can easily recognize huge diffrence between min a max value.\n"
   ]
  },
  {
   "cell_type": "code",
   "execution_count": 22,
   "metadata": {},
   "outputs": [
    {
     "data": {
      "image/png": "[encoded data removed]",
      "text/plain": [
       "<Figure size 1440x720 with 1 Axes>"
      ]
     },
     "metadata": {
      "needs_background": "light"
     },
     "output_type": "display_data"
    }
   ],
   "source": [
    "# Average votes given by IMDb registed users\n",
    "\n",
    "x = df_DBver4['budget_adj']/1000000\n",
    "y = df_DBver4['vote_average']\n",
    "\n",
    "plt.rcParams['figure.figsize'] = 20, 10\n",
    "\n",
    "plt.scatter(x, y)\n",
    "\n",
    "# Plot formatting\n",
    "plt.title('Average votes given by IMDb registed users', fontsize=15)\n",
    "plt.xlabel(\"Budget in mil USD\", fontsize=12)\n",
    "plt.ylabel(\"Average votes\",fontsize=12);\n",
    "\n",
    "plt.xticks(np.arange(0, 460, 20)) \n",
    "plt.yticks(np.arange(2.5, 9, 0.5)) \n",
    "\n",
    "plt.grid()\n"
   ]
  },
  {
   "cell_type": "markdown",
   "metadata": {},
   "source": [
    "We can see from the plot that there is no exact relation between budget and received votes from IMDb users. In the IMDb database there are a lot of movies with relatively low budget (up to 20 mil. USD) with rating above 7.5 (median = 6.2).\n",
    "\n",
    "On the other hand, we have very high budget movie (budget more than 240 mil. USD) with average rating\n",
    "\n",
    "We can say that there is no reason for producers to think that with high amount of invested money they will receive better customers rating.\n",
    "\n"
   ]
  },
  {
   "cell_type": "code",
   "execution_count": 23,
   "metadata": {},
   "outputs": [
    {
     "data": {
      "image/png": "[encoded data removed]",
      "text/plain": [
       "<Figure size 1440x720 with 1 Axes>"
      ]
     },
     "metadata": {
      "needs_background": "light"
     },
     "output_type": "display_data"
    }
   ],
   "source": [
    "# Relationship between movie revenue vs. budget\n",
    "\n",
    "x = df_DBver4['budget_adj']/1000000\n",
    "y = df_DBver4['revenue_adj']/1000000000\n",
    "\n",
    "plt.scatter(x, y)\n",
    "\n",
    "# Plot formatting\n",
    "plt.title('Relationship between movie revenue vs. budget', fontsize=15)\n",
    "plt.xlabel(\"Budget in mil USD\", fontsize=12)\n",
    "plt.ylabel(\"Revenue in bilions USD\",fontsize=12);\n",
    "\n",
    "plt.xticks(np.arange(0, 460, 20)) \n",
    "plt.yticks(np.arange(0, 3, .1)) \n",
    "\n",
    "plt.grid()"
   ]
  },
  {
   "cell_type": "markdown",
   "metadata": {
    "collapsed": true
   },
   "source": [
    "Based on the plot there is no relation between revenue and budget. \n",
    "\n",
    "For better overview We can define profit_ratio coefficient which is calculated as revenue_adj / budget_adj.\n",
    "Value above 1 means that movie earns money, bigger number = bigger profit for company and of course value bellow 1 means that movie produce lost.\n"
   ]
  },
  {
   "cell_type": "code",
   "execution_count": 24,
   "metadata": {},
   "outputs": [
    {
     "name": "stderr",
     "output_type": "stream",
     "text": [
      "C:\\Utils\\Anaconda\\lib\\site-packages\\ipykernel_launcher.py:4: SettingWithCopyWarning: \n",
      "A value is trying to be set on a copy of a slice from a DataFrame.\n",
      "Try using .loc[row_indexer,col_indexer] = value instead\n",
      "\n",
      "See the caveats in the documentation: https://pandas.pydata.org/pandas-docs/stable/user_guide/indexing.html#returning-a-view-versus-a-copy\n",
      "  after removing the cwd from sys.path.\n"
     ]
    },
    {
     "data": {
      "text/html": [
       "<div>\n",
       "<style scoped>\n",
       "    .dataframe tbody tr th:only-of-type {\n",
       "        vertical-align: middle;\n",
       "    }\n",
       "\n",
       "    .dataframe tbody tr th {\n",
       "        vertical-align: top;\n",
       "    }\n",
       "\n",
       "    .dataframe thead th {\n",
       "        text-align: right;\n",
       "    }\n",
       "</style>\n",
       "<table border=\"1\" class=\"dataframe\">\n",
       "  <thead>\n",
       "    <tr style=\"text-align: right;\">\n",
       "      <th></th>\n",
       "      <th>id</th>\n",
       "      <th>popularity</th>\n",
       "      <th>budget</th>\n",
       "      <th>revenue</th>\n",
       "      <th>original_title</th>\n",
       "      <th>runtime</th>\n",
       "      <th>vote_count</th>\n",
       "      <th>vote_average</th>\n",
       "      <th>release_year</th>\n",
       "      <th>budget_adj</th>\n",
       "      <th>revenue_adj</th>\n",
       "      <th>profit_ratio</th>\n",
       "    </tr>\n",
       "  </thead>\n",
       "  <tbody>\n",
       "    <tr>\n",
       "      <th>0</th>\n",
       "      <td>135397</td>\n",
       "      <td>32.985763</td>\n",
       "      <td>150000000</td>\n",
       "      <td>1513528810</td>\n",
       "      <td>Jurassic World</td>\n",
       "      <td>124</td>\n",
       "      <td>5562</td>\n",
       "      <td>6.5</td>\n",
       "      <td>2015</td>\n",
       "      <td>1.379999e+08</td>\n",
       "      <td>1.392446e+09</td>\n",
       "      <td>10.090192</td>\n",
       "    </tr>\n",
       "    <tr>\n",
       "      <th>1</th>\n",
       "      <td>76341</td>\n",
       "      <td>28.419936</td>\n",
       "      <td>150000000</td>\n",
       "      <td>378436354</td>\n",
       "      <td>Mad Max: Fury Road</td>\n",
       "      <td>120</td>\n",
       "      <td>6185</td>\n",
       "      <td>7.1</td>\n",
       "      <td>2015</td>\n",
       "      <td>1.379999e+08</td>\n",
       "      <td>3.481613e+08</td>\n",
       "      <td>2.522909</td>\n",
       "    </tr>\n",
       "    <tr>\n",
       "      <th>2</th>\n",
       "      <td>262500</td>\n",
       "      <td>13.112507</td>\n",
       "      <td>110000000</td>\n",
       "      <td>295238201</td>\n",
       "      <td>Insurgent</td>\n",
       "      <td>119</td>\n",
       "      <td>2480</td>\n",
       "      <td>6.3</td>\n",
       "      <td>2015</td>\n",
       "      <td>1.012000e+08</td>\n",
       "      <td>2.716190e+08</td>\n",
       "      <td>2.683984</td>\n",
       "    </tr>\n",
       "    <tr>\n",
       "      <th>3</th>\n",
       "      <td>140607</td>\n",
       "      <td>11.173104</td>\n",
       "      <td>200000000</td>\n",
       "      <td>2068178225</td>\n",
       "      <td>Star Wars: The Force Awakens</td>\n",
       "      <td>136</td>\n",
       "      <td>5292</td>\n",
       "      <td>7.5</td>\n",
       "      <td>2015</td>\n",
       "      <td>1.839999e+08</td>\n",
       "      <td>1.902723e+09</td>\n",
       "      <td>10.340891</td>\n",
       "    </tr>\n",
       "    <tr>\n",
       "      <th>4</th>\n",
       "      <td>168259</td>\n",
       "      <td>9.335014</td>\n",
       "      <td>190000000</td>\n",
       "      <td>1506249360</td>\n",
       "      <td>Furious 7</td>\n",
       "      <td>137</td>\n",
       "      <td>2947</td>\n",
       "      <td>7.3</td>\n",
       "      <td>2015</td>\n",
       "      <td>1.747999e+08</td>\n",
       "      <td>1.385749e+09</td>\n",
       "      <td>7.927628</td>\n",
       "    </tr>\n",
       "  </tbody>\n",
       "</table>\n",
       "</div>"
      ],
      "text/plain": [
       "       id  popularity     budget     revenue                original_title  \\\n",
       "0  135397   32.985763  150000000  1513528810                Jurassic World   \n",
       "1   76341   28.419936  150000000   378436354            Mad Max: Fury Road   \n",
       "2  262500   13.112507  110000000   295238201                     Insurgent   \n",
       "3  140607   11.173104  200000000  2068178225  Star Wars: The Force Awakens   \n",
       "4  168259    9.335014  190000000  1506249360                     Furious 7   \n",
       "\n",
       "   runtime  vote_count  vote_average  release_year    budget_adj  \\\n",
       "0      124        5562           6.5          2015  1.379999e+08   \n",
       "1      120        6185           7.1          2015  1.379999e+08   \n",
       "2      119        2480           6.3          2015  1.012000e+08   \n",
       "3      136        5292           7.5          2015  1.839999e+08   \n",
       "4      137        2947           7.3          2015  1.747999e+08   \n",
       "\n",
       "    revenue_adj  profit_ratio  \n",
       "0  1.392446e+09     10.090192  \n",
       "1  3.481613e+08      2.522909  \n",
       "2  2.716190e+08      2.683984  \n",
       "3  1.902723e+09     10.340891  \n",
       "4  1.385749e+09      7.927628  "
      ]
     },
     "execution_count": 24,
     "metadata": {},
     "output_type": "execute_result"
    }
   ],
   "source": [
    "# Relationship between movie revenue vs. budget\n",
    "# create the profit_ratio coeficient as profit_ratio = revenue / budget\n",
    "\n",
    "df_DBver4['profit_ratio'] = df_DBver4['revenue_adj']/df_DBver4['budget_adj']\n",
    "df_DBver4.head(5)\n"
   ]
  },
  {
   "cell_type": "code",
   "execution_count": 25,
   "metadata": {},
   "outputs": [
    {
     "data": {
      "text/html": [
       "<div>\n",
       "<style scoped>\n",
       "    .dataframe tbody tr th:only-of-type {\n",
       "        vertical-align: middle;\n",
       "    }\n",
       "\n",
       "    .dataframe tbody tr th {\n",
       "        vertical-align: top;\n",
       "    }\n",
       "\n",
       "    .dataframe thead th {\n",
       "        text-align: right;\n",
       "    }\n",
       "</style>\n",
       "<table border=\"1\" class=\"dataframe\">\n",
       "  <thead>\n",
       "    <tr style=\"text-align: right;\">\n",
       "      <th></th>\n",
       "      <th>id</th>\n",
       "      <th>popularity</th>\n",
       "      <th>budget</th>\n",
       "      <th>revenue</th>\n",
       "      <th>original_title</th>\n",
       "      <th>runtime</th>\n",
       "      <th>vote_count</th>\n",
       "      <th>vote_average</th>\n",
       "      <th>release_year</th>\n",
       "      <th>budget_adj</th>\n",
       "      <th>revenue_adj</th>\n",
       "      <th>profit_ratio</th>\n",
       "    </tr>\n",
       "  </thead>\n",
       "  <tbody>\n",
       "    <tr>\n",
       "      <th>10307</th>\n",
       "      <td>2259</td>\n",
       "      <td>0.450208</td>\n",
       "      <td>25000000</td>\n",
       "      <td>6</td>\n",
       "      <td>The House of the Spirits</td>\n",
       "      <td>140</td>\n",
       "      <td>52</td>\n",
       "      <td>6.7</td>\n",
       "      <td>1993</td>\n",
       "      <td>3.773675e+07</td>\n",
       "      <td>9.056820</td>\n",
       "      <td>2.400000e-07</td>\n",
       "    </tr>\n",
       "    <tr>\n",
       "      <th>5067</th>\n",
       "      <td>13537</td>\n",
       "      <td>0.462609</td>\n",
       "      <td>6000000</td>\n",
       "      <td>2</td>\n",
       "      <td>Shattered Glass</td>\n",
       "      <td>94</td>\n",
       "      <td>46</td>\n",
       "      <td>6.4</td>\n",
       "      <td>2003</td>\n",
       "      <td>7.112116e+06</td>\n",
       "      <td>2.370705</td>\n",
       "      <td>3.333333e-07</td>\n",
       "    </tr>\n",
       "    <tr>\n",
       "      <th>8142</th>\n",
       "      <td>2293</td>\n",
       "      <td>0.552091</td>\n",
       "      <td>6000000</td>\n",
       "      <td>2</td>\n",
       "      <td>Mallrats</td>\n",
       "      <td>94</td>\n",
       "      <td>201</td>\n",
       "      <td>6.8</td>\n",
       "      <td>1995</td>\n",
       "      <td>8.585801e+06</td>\n",
       "      <td>2.861934</td>\n",
       "      <td>3.333333e-07</td>\n",
       "    </tr>\n",
       "    <tr>\n",
       "      <th>8523</th>\n",
       "      <td>9431</td>\n",
       "      <td>0.578849</td>\n",
       "      <td>15000000</td>\n",
       "      <td>5</td>\n",
       "      <td>Bordello of Blood</td>\n",
       "      <td>87</td>\n",
       "      <td>27</td>\n",
       "      <td>4.9</td>\n",
       "      <td>1996</td>\n",
       "      <td>2.085325e+07</td>\n",
       "      <td>6.951084</td>\n",
       "      <td>3.333333e-07</td>\n",
       "    </tr>\n",
       "    <tr>\n",
       "      <th>7158</th>\n",
       "      <td>14844</td>\n",
       "      <td>0.420568</td>\n",
       "      <td>23000000</td>\n",
       "      <td>12</td>\n",
       "      <td>Chasing Liberty</td>\n",
       "      <td>111</td>\n",
       "      <td>86</td>\n",
       "      <td>6.2</td>\n",
       "      <td>2004</td>\n",
       "      <td>2.655224e+07</td>\n",
       "      <td>13.853345</td>\n",
       "      <td>5.217391e-07</td>\n",
       "    </tr>\n",
       "  </tbody>\n",
       "</table>\n",
       "</div>"
      ],
      "text/plain": [
       "          id  popularity    budget  revenue            original_title  \\\n",
       "10307   2259    0.450208  25000000        6  The House of the Spirits   \n",
       "5067   13537    0.462609   6000000        2           Shattered Glass   \n",
       "8142    2293    0.552091   6000000        2                  Mallrats   \n",
       "8523    9431    0.578849  15000000        5         Bordello of Blood   \n",
       "7158   14844    0.420568  23000000       12           Chasing Liberty   \n",
       "\n",
       "       runtime  vote_count  vote_average  release_year    budget_adj  \\\n",
       "10307      140          52           6.7          1993  3.773675e+07   \n",
       "5067        94          46           6.4          2003  7.112116e+06   \n",
       "8142        94         201           6.8          1995  8.585801e+06   \n",
       "8523        87          27           4.9          1996  2.085325e+07   \n",
       "7158       111          86           6.2          2004  2.655224e+07   \n",
       "\n",
       "       revenue_adj  profit_ratio  \n",
       "10307     9.056820  2.400000e-07  \n",
       "5067      2.370705  3.333333e-07  \n",
       "8142      2.861934  3.333333e-07  \n",
       "8523      6.951084  3.333333e-07  \n",
       "7158     13.853345  5.217391e-07  "
      ]
     },
     "execution_count": 25,
     "metadata": {},
     "output_type": "execute_result"
    }
   ],
   "source": [
    "# Five lowest profit ratio\n",
    "\n",
    "df_DBver4.nsmallest(5,['profit_ratio'])"
   ]
  },
  {
   "cell_type": "code",
   "execution_count": 26,
   "metadata": {},
   "outputs": [
    {
     "data": {
      "text/html": [
       "<div>\n",
       "<style scoped>\n",
       "    .dataframe tbody tr th:only-of-type {\n",
       "        vertical-align: middle;\n",
       "    }\n",
       "\n",
       "    .dataframe tbody tr th {\n",
       "        vertical-align: top;\n",
       "    }\n",
       "\n",
       "    .dataframe thead th {\n",
       "        text-align: right;\n",
       "    }\n",
       "</style>\n",
       "<table border=\"1\" class=\"dataframe\">\n",
       "  <thead>\n",
       "    <tr style=\"text-align: right;\">\n",
       "      <th></th>\n",
       "      <th>id</th>\n",
       "      <th>popularity</th>\n",
       "      <th>budget</th>\n",
       "      <th>revenue</th>\n",
       "      <th>original_title</th>\n",
       "      <th>runtime</th>\n",
       "      <th>vote_count</th>\n",
       "      <th>vote_average</th>\n",
       "      <th>release_year</th>\n",
       "      <th>budget_adj</th>\n",
       "      <th>revenue_adj</th>\n",
       "      <th>profit_ratio</th>\n",
       "    </tr>\n",
       "  </thead>\n",
       "  <tbody>\n",
       "    <tr>\n",
       "      <th>10606</th>\n",
       "      <td>838</td>\n",
       "      <td>0.684079</td>\n",
       "      <td>777000</td>\n",
       "      <td>115000000</td>\n",
       "      <td>American Graffiti</td>\n",
       "      <td>110</td>\n",
       "      <td>145</td>\n",
       "      <td>6.5</td>\n",
       "      <td>1973</td>\n",
       "      <td>3.815971e+06</td>\n",
       "      <td>5.647834e+08</td>\n",
       "      <td>148.005148</td>\n",
       "    </tr>\n",
       "    <tr>\n",
       "      <th>10174</th>\n",
       "      <td>1366</td>\n",
       "      <td>2.389663</td>\n",
       "      <td>1100000</td>\n",
       "      <td>117235147</td>\n",
       "      <td>Rocky</td>\n",
       "      <td>119</td>\n",
       "      <td>963</td>\n",
       "      <td>7.2</td>\n",
       "      <td>1976</td>\n",
       "      <td>4.214868e+06</td>\n",
       "      <td>4.492097e+08</td>\n",
       "      <td>106.577406</td>\n",
       "    </tr>\n",
       "    <tr>\n",
       "      <th>10597</th>\n",
       "      <td>9461</td>\n",
       "      <td>0.993066</td>\n",
       "      <td>850000</td>\n",
       "      <td>90000000</td>\n",
       "      <td>Enter the Dragon</td>\n",
       "      <td>99</td>\n",
       "      <td>279</td>\n",
       "      <td>7.0</td>\n",
       "      <td>1973</td>\n",
       "      <td>4.174486e+06</td>\n",
       "      <td>4.420044e+08</td>\n",
       "      <td>105.882353</td>\n",
       "    </tr>\n",
       "    <tr>\n",
       "      <th>9808</th>\n",
       "      <td>36685</td>\n",
       "      <td>1.409947</td>\n",
       "      <td>1200000</td>\n",
       "      <td>112892319</td>\n",
       "      <td>The Rocky Horror Picture Show</td>\n",
       "      <td>100</td>\n",
       "      <td>332</td>\n",
       "      <td>7.1</td>\n",
       "      <td>1975</td>\n",
       "      <td>4.862185e+06</td>\n",
       "      <td>4.574195e+08</td>\n",
       "      <td>94.076933</td>\n",
       "    </tr>\n",
       "    <tr>\n",
       "      <th>10757</th>\n",
       "      <td>923</td>\n",
       "      <td>1.210531</td>\n",
       "      <td>650000</td>\n",
       "      <td>55000000</td>\n",
       "      <td>Dawn of the Dead</td>\n",
       "      <td>127</td>\n",
       "      <td>306</td>\n",
       "      <td>7.2</td>\n",
       "      <td>1978</td>\n",
       "      <td>2.172755e+06</td>\n",
       "      <td>1.838485e+08</td>\n",
       "      <td>84.615385</td>\n",
       "    </tr>\n",
       "  </tbody>\n",
       "</table>\n",
       "</div>"
      ],
      "text/plain": [
       "          id  popularity   budget    revenue                 original_title  \\\n",
       "10606    838    0.684079   777000  115000000              American Graffiti   \n",
       "10174   1366    2.389663  1100000  117235147                          Rocky   \n",
       "10597   9461    0.993066   850000   90000000               Enter the Dragon   \n",
       "9808   36685    1.409947  1200000  112892319  The Rocky Horror Picture Show   \n",
       "10757    923    1.210531   650000   55000000               Dawn of the Dead   \n",
       "\n",
       "       runtime  vote_count  vote_average  release_year    budget_adj  \\\n",
       "10606      110         145           6.5          1973  3.815971e+06   \n",
       "10174      119         963           7.2          1976  4.214868e+06   \n",
       "10597       99         279           7.0          1973  4.174486e+06   \n",
       "9808       100         332           7.1          1975  4.862185e+06   \n",
       "10757      127         306           7.2          1978  2.172755e+06   \n",
       "\n",
       "        revenue_adj  profit_ratio  \n",
       "10606  5.647834e+08    148.005148  \n",
       "10174  4.492097e+08    106.577406  \n",
       "10597  4.420044e+08    105.882353  \n",
       "9808   4.574195e+08     94.076933  \n",
       "10757  1.838485e+08     84.615385  "
      ]
     },
     "execution_count": 26,
     "metadata": {},
     "output_type": "execute_result"
    }
   ],
   "source": [
    "# Five largest profit ratio\n",
    "\n",
    "df_DBver4.nlargest(5,['profit_ratio'])"
   ]
  },
  {
   "cell_type": "code",
   "execution_count": 27,
   "metadata": {},
   "outputs": [
    {
     "data": {
      "image/png": "[encoded data removed]",
      "text/plain": [
       "<Figure size 1440x720 with 1 Axes>"
      ]
     },
     "metadata": {
      "needs_background": "light"
     },
     "output_type": "display_data"
    }
   ],
   "source": [
    "# Relationship between profit ratio vs. budget\n",
    "\n",
    "x = df_DBver4['budget_adj']/1000000\n",
    "y = df_DBver4['profit_ratio']\n",
    "\n",
    "plt.scatter(x, y)\n",
    "\n",
    "# Plot formatting\n",
    "plt.title('Relationship between mprofit ratio and budget', fontsize=15)\n",
    "plt.xlabel(\"Budget in mil USD\", fontsize=12)\n",
    "plt.ylabel(\"Profit ratio\",fontsize=12);\n",
    "\n",
    "plt.rcParams['figure.figsize'] = 20, 10\n",
    "\n",
    "plt.xticks(np.arange(0, 460, 20)) \n",
    "plt.yticks(np.arange(-10, 160, 10)) \n",
    "\n",
    "plt.grid()"
   ]
  },
  {
   "cell_type": "markdown",
   "metadata": {},
   "source": [
    "From the plot we can say that there are few movies with really high profit ratio which means that these movies made big profit for producing company with minimal investment.\n",
    "\n",
    "On the other hand we can observe that an numbers of movies with minimal profit."
   ]
  },
  {
   "cell_type": "markdown",
   "metadata": {},
   "source": [
    "<a id='conclusions'></a>\n",
    "## Conclusions\n",
    "\n",
    "Firstly, based on this analysis we have to say that first step has to be IMDb data validation. It is easily observed that in provided data set there are movies without budget and/or revenue information which were needed for this analysis.\n",
    "\n",
    "Second very important observation is even if there are data for budger and/or revenue there looks like wrong. Especially when we look closer to five movies with the lowest profit ratio, revenue for these movies is up to 20 USD which looks strange.\n",
    "\n",
    "\n",
    "Secondly, really interesting fact is that even movie production dramatically increase produced movies average customers rating is kept on the same level.\n",
    "\n",
    "Thirdly, we can say that in the movie production history there are few blockbuster films which has really amazing profit ratio.\n",
    " "
   ]
  },
  {
   "cell_type": "markdown",
   "metadata": {},
   "source": [
    "<a id='resources'></a>\n",
    "## Resources\n",
    "\n",
    "<a id=\"[1]\">[1]</a> TMDb movie data (cleaned from original data on Kaggle) provided as <a href=\"https://d17h27t6h515a5.cloudfront.net/topher/2017/October/59dd1c4c_tmdb-movies/tmdb-movies.csv\">official course material</a> \n",
    ".\n",
    "\n",
    "<a id=\"[2]\">[2]</a> <a href=\"https://www.themoviedb.org\\\">IMDb offical web page</a>\n",
    "\n",
    "\n",
    "<a id=\"[3]\">[3]</a> <a href=\"https://help.imdb.com/article/imdb/track-movies-tv/ratings-faq/G67Y87TFYYP6TWAV#ratings\">IMDb ratings</a>\n",
    "\n",
    "<a id=\"[4]\">[4]</a> <a href=\"https://stephenfollows.com/average-budget-low-micro-budget-film/\">What’s the average budget of a low or micro-budget film?</a>\n",
    "\n",
    "\n",
    "\n"
   ]
  }
 ],
 "metadata": {
  "kernelspec": {
   "display_name": "Python 3",
   "language": "python",
   "name": "python3"
  },
  "language_info": {
   "codemirror_mode": {
    "name": "ipython",
    "version": 3
   },
   "file_extension": ".py",
   "mimetype": "text/x-python",
   "name": "python",
   "nbconvert_exporter": "python",
   "pygments_lexer": "ipython3",
   "version": "3.7.6"
  }
 },
 "nbformat": 4,
 "nbformat_minor": 2
}
